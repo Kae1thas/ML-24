{
 "cells": [
  {
   "cell_type": "markdown",
   "metadata": {
    "id": "e0RF9gbh1pz7"
   },
   "source": [
    "## Шаг 1. Загрузка и первичная обработка данных"
   ]
  },
  {
   "cell_type": "code",
   "execution_count": 17,
   "metadata": {
    "colab": {
     "base_uri": "https://localhost:8080/"
    },
    "id": "cdHjcyPi1lh-",
    "outputId": "927a6a34-9b3a-49ad-dc8f-22b81a7fe6df"
   },
   "outputs": [
    {
     "name": "stdout",
     "output_type": "stream",
     "text": [
      "<class 'pandas.core.frame.DataFrame'>\n",
      "RangeIndex: 768 entries, 0 to 767\n",
      "Data columns (total 9 columns):\n",
      " #   Column                    Non-Null Count  Dtype  \n",
      "---  ------                    --------------  -----  \n",
      " 0   Pregnancies               768 non-null    int64  \n",
      " 1   Glucose                   768 non-null    int64  \n",
      " 2   BloodPressure             768 non-null    int64  \n",
      " 3   SkinThickness             768 non-null    int64  \n",
      " 4   Insulin                   768 non-null    int64  \n",
      " 5   BMI                       768 non-null    float64\n",
      " 6   DiabetesPedigreeFunction  768 non-null    float64\n",
      " 7   Age                       768 non-null    int64  \n",
      " 8   Outcome                   768 non-null    int64  \n",
      "dtypes: float64(2), int64(7)\n",
      "memory usage: 54.1 KB\n",
      "None\n",
      "       Pregnancies     Glucose  BloodPressure  SkinThickness     Insulin  \\\n",
      "count   768.000000  768.000000     768.000000     768.000000  768.000000   \n",
      "mean      3.845052  120.894531      69.105469      20.536458   79.799479   \n",
      "std       3.369578   31.972618      19.355807      15.952218  115.244002   \n",
      "min       0.000000    0.000000       0.000000       0.000000    0.000000   \n",
      "25%       1.000000   99.000000      62.000000       0.000000    0.000000   \n",
      "50%       3.000000  117.000000      72.000000      23.000000   30.500000   \n",
      "75%       6.000000  140.250000      80.000000      32.000000  127.250000   \n",
      "max      17.000000  199.000000     122.000000      99.000000  846.000000   \n",
      "\n",
      "              BMI  DiabetesPedigreeFunction         Age     Outcome  \n",
      "count  768.000000                768.000000  768.000000  768.000000  \n",
      "mean    31.992578                  0.471876   33.240885    0.348958  \n",
      "std      7.884160                  0.331329   11.760232    0.476951  \n",
      "min      0.000000                  0.078000   21.000000    0.000000  \n",
      "25%     27.300000                  0.243750   24.000000    0.000000  \n",
      "50%     32.000000                  0.372500   29.000000    0.000000  \n",
      "75%     36.600000                  0.626250   41.000000    1.000000  \n",
      "max     67.100000                  2.420000   81.000000    1.000000  \n"
     ]
    }
   ],
   "source": [
    "from __future__ import division, print_function  # Используется для обеспечения совместимости с Python 2\n",
    "%matplotlib inline\n",
    "from matplotlib import pyplot as plt  # Построение графиков\n",
    "import seaborn as sns  # Визуализация данных с улучшенным дизайном\n",
    "from google.colab import files  # Загрузка файлов в Google Colab\n",
    "import pickle  # Работа с бинарными файлами для сохранения/загрузки объектов Python\n",
    "import numpy as np  # Работа с массивами и матрицами чисел\n",
    "import pandas as pd  # Работа с табличными данными\n",
    "from sklearn.preprocessing import StandardScaler  # Нормализация данных\n",
    "from sklearn.metrics import roc_auc_score  # Вычисление метрики качества классификации (AUC-ROC)\n",
    "from sklearn.linear_model import LogisticRegression  # Логистическая регрессия\n",
    "from sklearn.model_selection import train_test_split  # Разделение данных на обучающую и тестовую выборки\n",
    "from sklearn.model_selection import GridSearchCV  # Подбор гиперпараметров с кросс-валидацией\n",
    "from sklearn.metrics import roc_curve, auc  # Построение ROC-кривой и вычисление площади под ней\n",
    "\n",
    "data_path = 'diabetes.csv'\n",
    "\n",
    "# Чтение файла CSV в DataFrame\n",
    "df = pd.read_csv(data_path)\n",
    "\n",
    "print(df.info())  # Информация о типах данных и количестве пропущенных значений\n",
    "print(df.describe())  # Статистическое описание числовых данных"
   ]
  },
  {
   "cell_type": "markdown",
   "metadata": {
    "id": "eAw8bzS50fXQ"
   },
   "source": [
    "## Шаг 2. Создание признаков для обучения"
   ]
  },
  {
   "cell_type": "code",
   "execution_count": 18,
   "metadata": {
    "colab": {
     "base_uri": "https://localhost:8080/"
    },
    "id": "rALe6mpD0m9A",
    "outputId": "6fc8d431-5b74-4964-bac8-49df41e6ec3d"
   },
   "outputs": [
    {
     "name": "stdout",
     "output_type": "stream",
     "text": [
      "\n",
      "Признаки для обучения:\n",
      "   Pregnancies  Glucose  BloodPressure  BMI_Age  Glucose_BloodPressure\n",
      "0            6      148             72   1680.0               2.027397\n",
      "1            1       85             66    824.6               1.268657\n",
      "2            8      183             64    745.6               2.815385\n",
      "3            1       89             66    590.1               1.328358\n",
      "4            0      137             40   1422.3               3.341463\n"
     ]
    }
   ],
   "source": [
    "y = df['Outcome']\n",
    "\n",
    "# Создание новых синтезированных признаков\n",
    "# Пример: связь между индексом массы тела (BMI) и возрастом пациента\n",
    "df['BMI_Age'] = df['BMI'] * df['Age']\n",
    "# Пример: соотношение уровня глюкозы к артериальному давлению\n",
    "df['Glucose_BloodPressure'] = df['Glucose'] / (df['BloodPressure'] + 1)  # Избежим деления на 0\n",
    "\n",
    "# Выбор признаков для обучения\n",
    "X = df[['Pregnancies', 'Glucose', 'BloodPressure', 'BMI_Age', 'Glucose_BloodPressure']]\n",
    "\n",
    "# Вывод первых строк признаков для проверки\n",
    "print(\"\\nПризнаки для обучения:\")\n",
    "print(X.head())\n"
   ]
  },
  {
   "cell_type": "markdown",
   "metadata": {
    "id": "Wddj2TpO0fU5"
   },
   "source": [
    "## Шаг 3. Разделение данных"
   ]
  },
  {
   "cell_type": "code",
   "execution_count": 19,
   "metadata": {
    "colab": {
     "base_uri": "https://localhost:8080/"
    },
    "id": "1YE_VVLx0rea",
    "outputId": "af39e1a2-a31a-4d42-ea21-7e769d1d12a0"
   },
   "outputs": [
    {
     "name": "stdout",
     "output_type": "stream",
     "text": [
      "\n",
      "Размеры наборов данных:\n",
      "X_train: (614, 5), X_test: (154, 5)\n",
      "y_train: (614,), y_test: (154,)\n"
     ]
    }
   ],
   "source": [
    "# Разделение данных на обучающую и тестовую выборки\n",
    "# 80% для обучения, 20% для тестирования\n",
    "X_train, X_test, y_train, y_test = train_test_split(X, y, test_size=0.2, random_state=42)\n",
    "\n",
    "# Замена пропущенных значений на медиану в обучающих и тестовых наборах\n",
    "X_train = X_train.apply(lambda x: x.fillna(x.median()), axis=0)\n",
    "X_test = X_test.apply(lambda x: x.fillna(x.median()), axis=0)\n",
    "y_train = y_train.fillna(y_train.median())\n",
    "y_test = y_test.fillna(y_test.median())\n",
    "\n",
    "# Проверка размеров обучающих и тестовых наборов\n",
    "print(\"\\nРазмеры наборов данных:\")\n",
    "print(f\"X_train: {X_train.shape}, X_test: {X_test.shape}\")\n",
    "print(f\"y_train: {y_train.shape}, y_test: {y_test.shape}\")"
   ]
  },
  {
   "cell_type": "markdown",
   "metadata": {
    "id": "PIDhhuy-0mgB"
   },
   "source": [
    "## Шаг 4. Масштабирование признаков"
   ]
  },
  {
   "cell_type": "code",
   "execution_count": 20,
   "metadata": {
    "colab": {
     "base_uri": "https://localhost:8080/"
    },
    "id": "v8jJChyu01Vk",
    "outputId": "70b1946c-189e-4464-e2d1-1a1522c3db08"
   },
   "outputs": [
    {
     "name": "stdout",
     "output_type": "stream",
     "text": [
      "\n",
      "Первые 5 строк после масштабирования:\n",
      "[[-0.52639686 -1.15139792 -3.75268255 -2.43777966  3.43276966]\n",
      " [ 1.58804586 -0.27664283  0.68034485  0.82686039 -0.21178883]\n",
      " [-0.82846011  0.56687102 -1.2658623  -0.97586922 -0.14088034]\n",
      " [-1.13052335  1.2541786  -1.04961706  0.85811758 -0.1320869 ]\n",
      " [ 0.68185612  0.41066475  0.57222224  2.48279696 -0.19834293]]\n"
     ]
    }
   ],
   "source": [
    "# Преобразование признаков к единому масштабу (StandardScaler)\n",
    "scaler = StandardScaler()\n",
    "X_train_scaled = scaler.fit_transform(X_train)  # Обучение и преобразование обучающего набора\n",
    "X_test_scaled = scaler.transform(X_test)  # Преобразование тестового набора\n",
    "\n",
    "# Проверка первых 5 строк после масштабирования\n",
    "print(\"\\nПервые 5 строк после масштабирования:\")\n",
    "print(X_train_scaled[:5])"
   ]
  },
  {
   "cell_type": "markdown",
   "metadata": {
    "id": "D2O9hidN0fSS"
   },
   "source": [
    "## Шаг 5. Моделирование: логистическая регрессия"
   ]
  },
  {
   "cell_type": "code",
   "execution_count": 21,
   "metadata": {
    "colab": {
     "base_uri": "https://localhost:8080/"
    },
    "id": "ynQiygf905xG",
    "outputId": "ad9e9630-f31e-4955-9ec0-b16d19fa0b5e"
   },
   "outputs": [
    {
     "name": "stdout",
     "output_type": "stream",
     "text": [
      "Лучшее значение C: 2.154434690031882\n"
     ]
    }
   ],
   "source": [
    "# Подбор гиперпараметра регуляризации C\n",
    "params = {'C': np.logspace(-3, 3, 10)}  # Сетка значений гиперпараметра\n",
    "lr = LogisticRegression(max_iter=1000, random_state=42)\n",
    "grid = GridSearchCV(lr, params, scoring='roc_auc', cv=5)  # Кросс-валидация\n",
    "\n",
    "# Обучение модели с подбором гиперпараметров\n",
    "grid.fit(X_train_scaled, y_train)\n",
    "\n",
    "# Оптимальный гиперпараметр\n",
    "best_model = grid.best_estimator_  # Модель с лучшим результатом\n",
    "best_C = grid.best_params_['C']  # Лучшее значение C\n",
    "print(f\"Лучшее значение C: {best_C}\")"
   ]
  },
  {
   "cell_type": "markdown",
   "metadata": {
    "id": "YqZRGFtf07O2"
   },
   "source": [
    "## Шаг 6. Оценка модели"
   ]
  },
  {
   "cell_type": "code",
   "execution_count": 22,
   "metadata": {
    "colab": {
     "base_uri": "https://localhost:8080/"
    },
    "id": "d6WxpSAG08_u",
    "outputId": "510e1b98-b697-42c0-cf9c-ba2d1e10d836"
   },
   "outputs": [
    {
     "name": "stdout",
     "output_type": "stream",
     "text": [
      "AUC-ROC: 0.7829201101928375\n"
     ]
    }
   ],
   "source": [
    "# Вычисление вероятностей принадлежности к классу 1 (диабет)\n",
    "y_pred_prob = best_model.predict_proba(X_test_scaled)[:, 1]\n",
    "\n",
    "# Расчет метрики AUC-ROC (качество классификации)\n",
    "auc_score = roc_auc_score(y_test, y_pred_prob)\n",
    "print(f\"AUC-ROC: {auc_score}\")"
   ]
  },
  {
   "cell_type": "markdown",
   "metadata": {
    "id": "shvISYGm0fP3"
   },
   "source": [
    "## Шаг 7. Графический анализ зависимости AUC-ROC от C"
   ]
  },
  {
   "cell_type": "code",
   "execution_count": 23,
   "metadata": {
    "colab": {
     "base_uri": "https://localhost:8080/",
     "height": 1000
    },
    "id": "eC-IDX3i1Aj2",
    "outputId": "afc397c9-964d-488e-ba1b-4cf18966dc13"
   },
   "outputs": [
    {
     "data": {
      "image/png": "[encoded data removed]",
      "text/plain": [
       "<Figure size 640x480 with 1 Axes>"
      ]
     },
     "metadata": {},
     "output_type": "display_data"
    },
    {
     "data": {
      "image/png": "[encoded data removed]",
      "text/plain": [
       "<Figure size 800x600 with 1 Axes>"
      ]
     },
     "metadata": {},
     "output_type": "display_data"
    }
   ],
   "source": [
    "# Расчет AUC-ROC для различных значений C\n",
    "Cs = np.logspace(-1, 2, 10)  # Значения C\n",
    "scores = []\n",
    "\n",
    "for C_val in Cs:\n",
    "    lr = LogisticRegression(C=C_val, max_iter=1000, random_state=42)\n",
    "    lr.fit(X_train_scaled, y_train)\n",
    "    y_pred_prob = lr.predict_proba(X_test_scaled)[:, 1]\n",
    "    auc_score = roc_auc_score(y_test, y_pred_prob)\n",
    "    scores.append(auc_score)\n",
    "\n",
    "# AUC-ROC для значения C=1\n",
    "lr_default = LogisticRegression(C=1, max_iter=1000, random_state=42)\n",
    "lr_default.fit(X_train_scaled, y_train)\n",
    "y_pred_prob_default = lr_default.predict_proba(X_test_scaled)[:, 1]\n",
    "score_C_1 = roc_auc_score(y_test, y_pred_prob_default)\n",
    "\n",
    "# Построение графика зависимости AUC-ROC от C\n",
    "plt.plot(Cs, scores, 'ro-', label='AUC-ROC по C')\n",
    "plt.xscale('log')\n",
    "plt.xlabel('C')\n",
    "plt.ylabel('AUC-ROC')\n",
    "plt.title('Подбор коэффициента регуляризации')\n",
    "plt.axhline(y=score_C_1, linewidth=.5, color='b', linestyle='dashed', label=f'AUC-ROC для C=1 ({score_C_1:.2f})')\n",
    "plt.legend()\n",
    "plt.grid()\n",
    "plt.show()\n",
    "\n",
    "# Дополнительный график на основе кросс-валидации\n",
    "results = pd.DataFrame(grid.cv_results_)\n",
    "plt.figure(figsize=(8, 6))\n",
    "plt.semilogx(results['param_C'], results['mean_test_score'], marker='o')\n",
    "plt.xlabel('C (гиперпараметр)')\n",
    "plt.ylabel('AUC-ROC')\n",
    "plt.title('Зависимость AUC-ROC от C')\n",
    "plt.grid()\n",
    "plt.show()"
   ]
  },
  {
   "cell_type": "markdown",
   "metadata": {
    "id": "CtSZsgTf0fNW"
   },
   "source": [
    "## Шаг 8. Сохранение результатов"
   ]
  },
  {
   "cell_type": "code",
   "execution_count": 24,
   "metadata": {
    "colab": {
     "base_uri": "https://localhost:8080/"
    },
    "id": "HQzTIx3M1EN7",
    "outputId": "b5b91964-7380-4ca0-8799-740c52c512d8"
   },
   "outputs": [
    {
     "name": "stdout",
     "output_type": "stream",
     "text": [
      "   Pregnancies  Glucose    Best_C   AUC-ROC\n",
      "0            6      148  2.154435  0.782369\n",
      "1            1       85  2.154435  0.782369\n",
      "2            8      183  2.154435  0.782369\n",
      "3            1       89  2.154435  0.782369\n",
      "4            0      137  2.154435  0.782369\n"
     ]
    }
   ],
   "source": [
    "# Формирование DataFrame с результатами\n",
    "baseline_metrics = []\n",
    "\n",
    "for i in range(len(df)):\n",
    "    row_metrics = {\n",
    "        'Pregnancies': df['Pregnancies'].iloc[i],\n",
    "        'Glucose': df['Glucose'].iloc[i],\n",
    "        'Best_C': best_C,\n",
    "        'AUC-ROC': auc_score\n",
    "    }\n",
    "    baseline_metrics.append(row_metrics)\n",
    "\n",
    "baseline_df = pd.DataFrame(baseline_metrics)\n",
    "\n",
    "# Сохранение результатов в CSV файл\n",
    "baseline_path = 'baseline_metrics.csv'\n",
    "baseline_df.to_csv(baseline_path, index=False)\n",
    "\n",
    "# Вывод первых строк файла с метриками\n",
    "print(baseline_df.head())"
   ]
  },
  {
   "cell_type": "markdown",
   "metadata": {
    "id": "rywQo1DW3kSg"
   },
   "source": [
    "## Вывод\n",
    "\n",
    "1. В ходе анализа данных, модель логистической регрессии была обучена для прогнозирования вероятности заболевания на основе ряда признаков, таких как количество беременностей, уровень глюкозы. \n",
    "2. Гиперпараметр регуляризации C, равный 2.154, показал оптимальный баланс между качеством классификации и предотвращением переобучения, что отражается в среднем значении метрики AUC-ROC 0.782. Это свидетельствует о том, что модель достаточно точно классифицирует пациентов на группы с диабетом и без него.\n"
   ]
  }
 ],
 "metadata": {
  "colab": {
   "provenance": []
  },
  "kernelspec": {
   "display_name": "Python 3",
   "name": "python3"
  },
  "language_info": {
   "name": "python"
  }
 },
 "nbformat": 4,
 "nbformat_minor": 0
}
