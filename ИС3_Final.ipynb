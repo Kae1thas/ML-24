{
  "cells": [
    {
      "cell_type": "markdown",
      "metadata": {
        "id": "view-in-github",
        "colab_type": "text"
      },
      "source": [
        "<a href=\"https://colab.research.google.com/github/Kae1thas/ML-24/blob/main/%D0%98%D0%A13_Final.ipynb\" target=\"_parent\"><img src=\"https://colab.research.google.com/assets/colab-badge.svg\" alt=\"Open In Colab\"/></a>"
      ]
    },
    {
      "cell_type": "markdown",
      "metadata": {
        "id": "6tvEURVm3cDi"
      },
      "source": [
        "## Шаг 1. Подкачка с репозитория"
      ]
    },
    {
      "cell_type": "code",
      "execution_count": null,
      "metadata": {
        "colab": {
          "base_uri": "https://localhost:8080/"
        },
        "id": "d7xVqFX7UWXB",
        "outputId": "9a730128-bdd7-47bd-dbcf-50ad1c73b965"
      },
      "outputs": [
        {
          "name": "stdout",
          "output_type": "stream",
          "text": [
            "fatal: destination path 'stepik-dl-nlp' already exists and is not an empty directory.\n"
          ]
        }
      ],
      "source": [
        "!git clone https://github.com/Samsung-IT-Academy/stepik-dl-nlp.git && pip install -r stepik-dl-nlp/requirements.txt\n",
        "import sys\n",
        "sys.path.append('./stepik-dl-nlp')"
      ]
    },
    {
      "cell_type": "markdown",
      "metadata": {
        "id": "CaumzfV73cDn"
      },
      "source": [
        "## Шаг 2. Подключение библиотек"
      ]
    },
    {
      "cell_type": "code",
      "execution_count": null,
      "metadata": {
        "id": "tctELakqUYyp"
      },
      "outputs": [],
      "source": [
        "import warnings  # Импортируем модуль для управления предупреждениями\n",
        "warnings.filterwarnings('ignore')  # Игнорируем все предупреждения\n",
        "from sklearn.datasets import fetch_20newsgroups  # Импортируем функцию для загрузки датасета 20 News Groups\n",
        "from sklearn.metrics import accuracy_score  # Импортируем функцию для вычисления точности классификации\n",
        "import numpy as np  # Импортируем библиотеку для работы с массивами и матрицами\n",
        "import matplotlib.pyplot as plt  # Импортируем библиотеку для визуализации графиков\n",
        "%matplotlib inline\n",
        "import collections  # Импортируем модуль для работы с коллекциями\n",
        "import torch  # Импортируем библиотеку для работы с нейронными сетями и GPU\n",
        "from torch import nn  # Импортируем нейронные сети из PyTorch\n",
        "from torch.nn import functional as F  # Импортируем функциональные операции для нейронных сетей\n",
        "import dlnlputils  # Импортируем утилиты для глубокого обучения (кастомная библиотека)\n",
        "from dlnlputils.data import tokenize_text_simple_regex, tokenize_corpus, build_vocabulary, \\\n",
        "    vectorize_texts, SparseFeaturesDataset  # Импортируем функции для обработки текста и работы с данными\n",
        "from dlnlputils.pipeline import train_eval_loop, predict_with_model, init_random_seed  # Импортируем функции для обучения, предсказания и инициализации случайных чисел"
      ]
    },
    {
      "cell_type": "markdown",
      "metadata": {
        "id": "mIOn0rp5_bYy"
      },
      "source": [
        "## Шаг 3. Загрузка и предварительный осмотр данных"
      ]
    },
    {
      "cell_type": "code",
      "execution_count": null,
      "metadata": {
        "colab": {
          "base_uri": "https://localhost:8080/"
        },
        "id": "Qbn7zv66UaZz",
        "outputId": "971f92e8-8b02-4f72-eae8-f003e50d9e02"
      },
      "outputs": [
        {
          "name": "stdout",
          "output_type": "stream",
          "text": [
            "Количество обучающих текстов 11314\n",
            "Количество тестовых текстов 7532\n",
            "\n",
            "From: lerxst@wam.umd.edu (where's my thing)\n",
            "Subject: WHAT car is this!?\n",
            "Nntp-Posting-Host: rac3.wam.umd.edu\n",
            "Organization: University of Maryland, College Park\n",
            "Lines: 15\n",
            "\n",
            " I was wondering if anyone out there could enlighten me on this car I saw\n",
            "the other day. It was a 2-door sports car, looked to be from the late 60s/\n",
            "early 70s. It was called a Bricklin. The doors were really small. In addition,\n",
            "the front bumper was separate from the rest of the body. This is \n",
            "all I know. If anyone can tellme a model name, engine specs, years\n",
            "of production, where this car is made, history, or whatever info you\n",
            "have on this funky looking car, please e-mail.\n",
            "\n",
            "Thanks,\n",
            "- IL\n",
            "   ---- brought to you by your neighborhood Lerxst ----\n",
            "\n",
            "Метка 7\n"
          ]
        }
      ],
      "source": [
        "# Инициализация случайного начального состояния для воспроизводимости\n",
        "init_random_seed()\n",
        "\n",
        "# Загрузка обучающего набора данных (subset='train') из набора 20 Newsgroups\n",
        "train_source = fetch_20newsgroups(subset='train')\n",
        "\n",
        "# Загрузка тестового набора данных (subset='test') из набора 20 Newsgroups\n",
        "test_source = fetch_20newsgroups(subset='test')\n",
        "\n",
        "# Вывод количества текстов в обучающем наборе\n",
        "print('Количество обучающих текстов', len(train_source['data']))\n",
        "\n",
        "# Вывод количества текстов в тестовом наборе\n",
        "print('Количество тестовых текстов', len(test_source['data']))\n",
        "\n",
        "# Печать первого текста из обучающего набора для ознакомления\n",
        "print()\n",
        "print(train_source['data'][0].strip())\n",
        "\n",
        "# Печать метки (класса) для первого текста из обучающего набора\n",
        "print()\n",
        "print('Метка', train_source['target'][0])"
      ]
    },
    {
      "cell_type": "markdown",
      "metadata": {
        "id": "1SfJX926_zLB"
      },
      "source": [
        "## Шаг 4. Извлечение и анализ n-грамм"
      ]
    },
    {
      "cell_type": "code",
      "execution_count": null,
      "metadata": {
        "colab": {
          "base_uri": "https://localhost:8080/",
          "height": 698
        },
        "id": "FcL6lbpt8oB5",
        "outputId": "2aa1f341-7e4e-4c37-a610-54caefb71db1"
      },
      "outputs": [
        {
          "name": "stdout",
          "output_type": "stream",
          "text": [
            "Топ-10 самых частых n-грамм:\n",
            "ax ax: 56326\n",
            "nntp posting: 4794\n",
            "posting host: 4786\n",
            "max ax: 4334\n",
            "ax max: 4315\n",
            "organization university: 1801\n",
            "writes article: 1410\n",
            "distribution world: 981\n",
            "don know: 961\n",
            "edu organization: 902\n",
            "\n",
            "Количество уникальных n-грамм: 1056749\n"
          ]
        },
        {
          "data": {
            "image/png": "[encoded data removed]",
            "text/plain": [
              "<Figure size 640x480 with 1 Axes>"
            ]
          },
          "metadata": {},
          "output_type": "display_data"
        }
      ],
      "source": [
        "from sklearn.feature_extraction.text import CountVectorizer\n",
        "import matplotlib.pyplot as plt\n",
        "\n",
        "# Настройка n-грамм (например, биграммы)\n",
        "n = 2  # Для биграмм, можно изменить на 3 для триграмм и т.д.\n",
        "\n",
        "# Создаем CountVectorizer для извлечения n-грамм\n",
        "vectorizer = CountVectorizer(ngram_range=(n, n), stop_words='english')\n",
        "\n",
        "# Преобразуем обучающие данные в набор n-грамм\n",
        "X_train_ngram = vectorizer.fit_transform(train_source['data'])\n",
        "\n",
        "# Преобразуем тестовые данные в набор n-грамм (используя тот же векторизатор)\n",
        "X_test_ngram = vectorizer.transform(test_source['data'])\n",
        "\n",
        "# Получаем список всех n-грамм\n",
        "ngram_list = vectorizer.get_feature_names_out()\n",
        "\n",
        "# Подсчитываем, сколько раз каждая n-грамма встречается в обучающих документах\n",
        "ngram_freq = X_train_ngram.toarray().sum(axis=0)\n",
        "\n",
        "# Получаем 20 самых частых n-грамм\n",
        "ngram_freq_sorted = sorted(zip(ngram_freq, ngram_list), reverse=True)\n",
        "\n",
        "# Печать 10 самых частых n-грамм\n",
        "print(\"Топ-10 самых частых n-грамм:\")\n",
        "for freq, ngram in ngram_freq_sorted[:10]:\n",
        "    print(f\"{ngram}: {freq}\")\n",
        "\n",
        "# Печать статистики по уникальным n-граммам\n",
        "print(f\"\\nКоличество уникальных n-грамм: {len(ngram_list)}\")\n",
        "\n",
        "# Вычисление частоты появления n-грамм в документах (word_doc_freq)\n",
        "word_doc_freq = []\n",
        "for doc in X_train_ngram:\n",
        "    unique_ngrams = set(doc.indices)  # Множество уникальных n-грамм для документа\n",
        "    word_doc_freq.append(len(unique_ngrams))\n",
        "\n",
        "# Построение гистограммы распределения частот n-грамм\n",
        "plt.hist(word_doc_freq, bins=20)\n",
        "plt.title(f'Распределение частот {n}-грамм')\n",
        "plt.yscale('log')\n",
        "plt.xlabel('Частота n-грамм')\n",
        "plt.ylabel('Количество документов')\n",
        "plt.show()\n"
      ]
    },
    {
      "cell_type": "markdown",
      "metadata": {
        "id": "dSbjlpl_AADt"
      },
      "source": [
        "## Шаг 5. Векторизация текстов с фильтрацией по частоте n-грамм"
      ]
    },
    {
      "cell_type": "code",
      "execution_count": null,
      "metadata": {
        "id": "ClvShhKCUnte"
      },
      "outputs": [],
      "source": [
        "MAX_DF = 0.8  # Максимальная доля документов, в которых может встречаться слово (игнорирование слишком частых слов)\n",
        "MIN_DF = 5  # Минимальное количество документов, в которых должно встречаться слово (игнорирование слишком редких слов)\n",
        "NGRAM_RANGE = (1, 2)  # Диапазон N-грамм (используем униграммы и биграммы)\n",
        "\n",
        "vectorizer_ngram = CountVectorizer(ngram_range=NGRAM_RANGE, min_df=MIN_DF, max_df=MAX_DF)  # Инициализация векторизатора с заданными параметрами\n",
        "\n",
        "train_vectors_ngram = vectorizer_ngram.fit_transform(train_source['data'])  # Преобразование обучающих текстов в векторное представление\n",
        "test_vectors_ngram = vectorizer_ngram.transform(test_source['data'])  # Преобразование тестовых текстов в векторное представление"
      ]
    },
    {
      "cell_type": "code",
      "execution_count": null,
      "metadata": {
        "colab": {
          "base_uri": "https://localhost:8080/",
          "height": 452
        },
        "id": "WB0tvI3ZVxXs",
        "outputId": "6214ace8-269a-4d84-b5bc-68fd5e36ab22"
      },
      "outputs": [
        {
          "data": {
            "image/png": "[encoded data removed]",
            "text/plain": [
              "<Figure size 640x480 with 1 Axes>"
            ]
          },
          "metadata": {},
          "output_type": "display_data"
        }
      ],
      "source": [
        "plt.hist(train_source['target'], bins=np.arange(0, 21))\n",
        "plt.title('Распределение меток в обучающей выборке');"
      ]
    },
    {
      "cell_type": "code",
      "execution_count": null,
      "metadata": {
        "colab": {
          "base_uri": "https://localhost:8080/",
          "height": 452
        },
        "id": "51LcSG4SVzu6",
        "outputId": "96a8f719-5937-4725-b883-da8affd589ca"
      },
      "outputs": [
        {
          "data": {
            "image/png": "[encoded data removed]",
            "text/plain": [
              "<Figure size 640x480 with 1 Axes>"
            ]
          },
          "metadata": {},
          "output_type": "display_data"
        }
      ],
      "source": [
        "plt.hist(test_source['target'], bins=np.arange(0, 21))\n",
        "plt.title('Распределение меток в тестовой выборке');"
      ]
    },
    {
      "cell_type": "markdown",
      "metadata": {
        "id": "hILJiX6FAF_x"
      },
      "source": [
        "## Шаг 6. Лемматизация"
      ]
    },
    {
      "cell_type": "code",
      "execution_count": null,
      "metadata": {
        "colab": {
          "base_uri": "https://localhost:8080/"
        },
        "id": "L-8EX2gEUota",
        "outputId": "deae926b-221d-49ff-9ad5-20ed2b14d71f"
      },
      "outputs": [
        {
          "name": "stderr",
          "output_type": "stream",
          "text": [
            "[nltk_data] Downloading package wordnet to /root/nltk_data...\n",
            "[nltk_data]   Package wordnet is already up-to-date!\n",
            "[nltk_data] Downloading package punkt_tab to /root/nltk_data...\n",
            "[nltk_data]   Package punkt_tab is already up-to-date!\n"
          ]
        }
      ],
      "source": [
        "from nltk.tokenize import word_tokenize\n",
        "from nltk.stem import WordNetLemmatizer  # Импорт лемматизатора из библиотеки NLTK\n",
        "import nltk\n",
        "nltk.download('wordnet')  # Загрузка данных для лемматизатора\n",
        "nltk.download('punkt_tab')  # Загрузка дополнительных данных токенизатора\n",
        "\n",
        "lemmatizer = WordNetLemmatizer()  # Создание объекта лемматизатора\n",
        "\n",
        "# Функция для лемматизации текста\n",
        "def lemmatize_corpus(corpus):\n",
        "    return [' '.join([lemmatizer.lemmatize(word) for word in word_tokenize(doc)]) for doc in corpus]\n",
        "    # Лемматизация каждого слова в документе и соединение их обратно в текст\n",
        "\n",
        "# Лемматизация обучающего и тестового набора данных\n",
        "train_lemmatized = lemmatize_corpus(train_source['data'])  # Лемматизация обучающих данных\n",
        "test_lemmatized = lemmatize_corpus(test_source['data'])  # Лемматизация тестовых данных\n",
        "\n",
        "# Векторизация лемматизированных текстов через N-граммы\n",
        "train_vectors_lem = vectorizer_ngram.fit_transform(train_lemmatized)  # Преобразование обучающих данных в N-граммы\n",
        "test_vectors_lem = vectorizer_ngram.transform(test_lemmatized)  # Преобразование тестовых данных в N-граммы\n"
      ]
    },
    {
      "cell_type": "markdown",
      "metadata": {
        "id": "3V0keoUPAI30"
      },
      "source": [
        "## Шаг 7. Нейросеть и ее определение"
      ]
    },
    {
      "cell_type": "code",
      "execution_count": null,
      "metadata": {
        "id": "0HXqMxvhUgiR"
      },
      "outputs": [],
      "source": [
        "class TwoLayerNN(nn.Module):  # Определение класса нейронной сети, наследуя nn.Module\n",
        "    def __init__(self, input_dim, hidden_dim, output_dim):  # Инициализация модели\n",
        "        super(TwoLayerNN, self).__init__()  # Вызов конструктора базового класса\n",
        "        self.fc1 = nn.Linear(input_dim, hidden_dim)  # Первый полносвязный слой (вход -> скрытый слой)\n",
        "        self.fc2 = nn.Linear(hidden_dim, output_dim)  # Второй полносвязный слой (скрытый слой -> выход)\n",
        "\n",
        "    def forward(self, x):  # Определение прямого прохода данных через модель\n",
        "        x = F.relu(self.fc1(x))  # Применение ReLU активации после первого слоя\n",
        "        x = self.fc2(x)  # Вычисление выхода второго слоя\n",
        "        return x\n",
        "\n",
        "# Инициализация гиперпараметра скрытого слоя\n",
        "HIDDEN_DIM = 32  # Размер скрытого слоя\n",
        "\n",
        "# Создание экземпляра двухслойной нейросети\n",
        "model_two_layer = TwoLayerNN(\n",
        "    input_dim=train_vectors_ngram.shape[1],  # Размер входных данных (размер словаря)\n",
        "    hidden_dim=HIDDEN_DIM,  # Размер скрытого слоя\n",
        "    output_dim=len(set(train_source['target']))  # Размер выходного слоя (количество классов)\n",
        ")\n"
      ]
    },
    {
      "cell_type": "code",
      "execution_count": null,
      "metadata": {
        "id": "L3yKtaDUWZFG"
      },
      "outputs": [],
      "source": [
        "l2_reg_alpha = 1e-4  # Коэффициент L2-регуляризации для предотвращения переобучения модели"
      ]
    },
    {
      "cell_type": "markdown",
      "metadata": {
        "id": "gnXZLE6FAT3X"
      },
      "source": [
        "## Шаг 8. Фильтрация словаря на основе PMI и обновление векторных представлений"
      ]
    },
    {
      "cell_type": "code",
      "execution_count": null,
      "metadata": {
        "id": "iMJnueAtWaDU"
      },
      "outputs": [],
      "source": [
        "# Импорт необходимых библиотек для обработки текста\n",
        "from sklearn.feature_extraction.text import TfidfTransformer  # Используется для преобразования частот слов в TF-IDF\n",
        "from scipy.sparse import coo_matrix  # Формат для работы с разреженными матрицами\n",
        "\n",
        "# Определение функции для фильтрации словаря на основе PMI (Pointwise Mutual Information)\n",
        "def filter_vocabulary_by_pmi(vectors, min_pmi_threshold):\n",
        "    coo = coo_matrix(vectors)  # Преобразование в разреженную матрицу COO-формата\n",
        "    word_counts = np.array(vectors.sum(axis=0)).flatten()  # Подсчет количества вхождений каждого слова\n",
        "    word_pairs = collections.defaultdict(int)  # Словарь для подсчета пар слов\n",
        "\n",
        "    # Подсчет частоты совместной встречи слов\n",
        "    for i, j, _ in zip(coo.row, coo.col, coo.data):\n",
        "        word_pairs[(i, j)] += 1\n",
        "\n",
        "    pmi_scores = {}  # Словарь для хранения PMI-оценок\n",
        "    for (i, j), count in word_pairs.items():\n",
        "        p_ij = count / coo.nnz  # Вероятность совместной встречи\n",
        "        p_i = word_counts[i] / coo.nnz  # Вероятность первого слова\n",
        "        p_j = word_counts[j] / coo.nnz  # Вероятность второго слова\n",
        "        pmi_scores[j] = np.log2(p_ij / (p_i * p_j + 1e-9))  # Расчет PMI с добавлением малой константы для стабильности\n",
        "\n",
        "    # Фильтрация индексов с PMI выше порога\n",
        "    filtered_indices = {j for j, score in pmi_scores.items() if score >= min_pmi_threshold}\n",
        "    return filtered_indices\n",
        "\n",
        "# Установка порога PMI\n",
        "PMI_THRESHOLD = 0.5\n",
        "\n",
        "# Применение фильтрации словаря по PMI\n",
        "filtered_vocab = filter_vocabulary_by_pmi(train_vectors_ngram, PMI_THRESHOLD)\n",
        "\n",
        "# Корректная индексация разреженных матриц с учетом отфильтрованного словаря\n",
        "train_vectors_filtered = train_vectors_ngram[:, sorted(filtered_vocab)]  # Обновленный словарь для обучающих данных\n",
        "test_vectors_filtered = test_vectors_ngram[:, sorted(filtered_vocab)]  # Обновленный словарь для тестовых данных\n"
      ]
    },
    {
      "cell_type": "markdown",
      "metadata": {
        "id": "uoWK8nL2_DIJ"
      },
      "source": [
        "## Шаг 9. Обучение модели"
      ]
    },
    {
      "cell_type": "code",
      "execution_count": null,
      "metadata": {
        "colab": {
          "base_uri": "https://localhost:8080/"
        },
        "id": "2Szn4n_uPfoJ",
        "outputId": "db0a6514-a8b6-4314-e4ab-5403535cfd2c"
      },
      "outputs": [
        {
          "name": "stdout",
          "output_type": "stream",
          "text": [
            "Эпоха 0\n",
            "Эпоха: 89 итераций, 15.61 сек\n",
            "Среднее значение функции потерь на обучении 3.381336462631654\n",
            "Среднее значение функции потерь на валидации 2.6705319962259066\n",
            "Новая лучшая модель!\n",
            "\n",
            "Эпоха 1\n",
            "Эпоха: 89 итераций, 15.12 сек\n",
            "Среднее значение функции потерь на обучении 2.292191896545753\n",
            "Среднее значение функции потерь на валидации 3.7637000285972984\n",
            "\n",
            "Эпоха 2\n",
            "Эпоха: 89 итераций, 15.42 сек\n",
            "Среднее значение функции потерь на обучении 2.3372484298234575\n",
            "Среднее значение функции потерь на валидации 2.534579624563961\n",
            "Новая лучшая модель!\n",
            "\n",
            "Эпоха 3\n",
            "Эпоха: 89 итераций, 15.55 сек\n",
            "Среднее значение функции потерь на обучении 2.3007048274693864\n",
            "Среднее значение функции потерь на валидации 2.5532405012744968\n",
            "\n",
            "Эпоха 4\n",
            "Эпоха: 89 итераций, 14.69 сек\n",
            "Среднее значение функции потерь на обучении 2.592613166637635\n",
            "Среднее значение функции потерь на валидации 2.7053309699236334\n",
            "\n",
            "Эпоха 5\n",
            "Эпоха: 89 итераций, 16.53 сек\n",
            "Среднее значение функции потерь на обучении 2.4238805837845536\n",
            "Среднее значение функции потерь на валидации 3.039518271462392\n",
            "\n",
            "Эпоха 6\n",
            "Эпоха: 89 итераций, 14.87 сек\n",
            "Среднее значение функции потерь на обучении 2.2570030702633805\n",
            "Среднее значение функции потерь на валидации 3.1458030393568137\n",
            "\n",
            "Эпоха 7\n",
            "Эпоха: 89 итераций, 15.16 сек\n",
            "Среднее значение функции потерь на обучении 2.3618514028827797\n",
            "Среднее значение функции потерь на валидации 2.8031134969097073\n",
            "\n",
            "Эпоха 8\n",
            "Эпоха: 89 итераций, 15.47 сек\n",
            "Среднее значение функции потерь на обучении 2.3298481809958984\n",
            "Среднее значение функции потерь на валидации 2.786414869761063\n",
            "\n",
            "Эпоха 9\n",
            "Эпоха: 89 итераций, 15.37 сек\n",
            "Среднее значение функции потерь на обучении 2.1714213189114346\n",
            "Среднее значение функции потерь на валидации 2.6239353115275756\n",
            "\n",
            "Эпоха 10\n",
            "Эпоха: 89 итераций, 15.67 сек\n",
            "Среднее значение функции потерь на обучении 2.048521399497986\n",
            "Среднее значение функции потерь на валидации 2.6574422020023154\n",
            "\n",
            "Эпоха 11\n",
            "Эпоха: 89 итераций, 15.13 сек\n",
            "Среднее значение функции потерь на обучении 1.9365494880783425\n",
            "Среднее значение функции потерь на валидации 2.6209020392369418\n",
            "\n",
            "Эпоха 12\n",
            "Эпоха: 89 итераций, 14.85 сек\n",
            "Среднее значение функции потерь на обучении 1.8559875943687525\n",
            "Среднее значение функции потерь на валидации 2.485347030526501\n",
            "Новая лучшая модель!\n",
            "\n",
            "Эпоха 13\n",
            "Эпоха: 89 итераций, 15.79 сек\n",
            "Среднее значение функции потерь на обучении 1.8767822244194117\n",
            "Среднее значение функции потерь на валидации 2.2996424476979143\n",
            "Новая лучшая модель!\n",
            "\n",
            "Эпоха 14\n",
            "Эпоха: 89 итераций, 19.49 сек\n",
            "Среднее значение функции потерь на обучении 1.8948792768328377\n",
            "Среднее значение функции потерь на валидации 2.526342058585862\n",
            "\n",
            "Эпоха 15\n",
            "Эпоха: 89 итераций, 27.53 сек\n",
            "Среднее значение функции потерь на обучении 1.9054038270135945\n",
            "Среднее значение функции потерь на валидации 3.0181697627245367\n",
            "\n",
            "Эпоха 16\n",
            "Эпоха: 89 итераций, 30.32 сек\n",
            "Среднее значение функции потерь на обучении 2.1414763070224376\n",
            "Среднее значение функции потерь на валидации 2.646764286493851\n",
            "\n",
            "Эпоха 17\n",
            "Эпоха: 89 итераций, 30.07 сек\n",
            "Среднее значение функции потерь на обучении 1.9541474111964194\n",
            "Среднее значение функции потерь на валидации 2.4626932285599787\n",
            "\n",
            "Эпоха 18\n",
            "Эпоха: 89 итераций, 30.49 сек\n",
            "Среднее значение функции потерь на обучении 1.9535679723439592\n",
            "Среднее значение функции потерь на валидации 2.50824236869812\n",
            "\n",
            "Эпоха 19\n",
            "Эпоха: 89 итераций, 34.79 сек\n",
            "Среднее значение функции потерь на обучении 1.7875073759743336\n",
            "Среднее значение функции потерь на валидации 2.394161792124732\n",
            "\n",
            "Эпоха 20\n",
            "Эпоха: 89 итераций, 28.98 сек\n",
            "Среднее значение функции потерь на обучении 1.6755110628149483\n",
            "Среднее значение функции потерь на валидации 2.3959185673018633\n",
            "\n",
            "Эпоха 21\n",
            "Эпоха: 89 итераций, 29.08 сек\n",
            "Среднее значение функции потерь на обучении 1.483011221617795\n",
            "Среднее значение функции потерь на валидации 2.20707582417181\n",
            "Новая лучшая модель!\n",
            "\n",
            "Эпоха 22\n",
            "Эпоха: 89 итераций, 28.64 сек\n",
            "Среднее значение функции потерь на обучении 1.413702947370122\n",
            "Среднее значение функции потерь на валидации 2.089598364749197\n",
            "Новая лучшая модель!\n",
            "\n",
            "Эпоха 23\n",
            "Эпоха: 89 итераций, 28.88 сек\n",
            "Среднее значение функции потерь на обучении 1.4427866975912886\n",
            "Среднее значение функции потерь на валидации 2.1881949638916276\n",
            "\n",
            "Эпоха 24\n",
            "Эпоха: 89 итераций, 30.45 сек\n",
            "Среднее значение функции потерь на обучении 1.424577729085858\n",
            "Среднее значение функции потерь на валидации 2.319635803416624\n",
            "\n",
            "Эпоха 25\n",
            "Эпоха: 89 итераций, 28.84 сек\n",
            "Среднее значение функции потерь на обучении 1.2588108054707559\n",
            "Среднее значение функции потерь на валидации 2.16830552230447\n",
            "\n",
            "Эпоха 26\n",
            "Эпоха: 89 итераций, 29.22 сек\n",
            "Среднее значение функции потерь на обучении 1.1491672791791765\n",
            "Среднее значение функции потерь на валидации 2.032977017305665\n",
            "Новая лучшая модель!\n",
            "\n",
            "Эпоха 27\n",
            "Эпоха: 89 итераций, 29.08 сек\n",
            "Среднее значение функции потерь на обучении 1.040613177117337\n",
            "Среднее значение функции потерь на валидации 2.0710475363973844\n",
            "\n",
            "Эпоха 28\n",
            "Эпоха: 89 итераций, 28.61 сек\n",
            "Среднее значение функции потерь на обучении 1.1367555093229487\n",
            "Среднее значение функции потерь на валидации 2.158645520776005\n",
            "\n",
            "Эпоха 29\n",
            "Эпоха: 89 итераций, 29.44 сек\n",
            "Среднее значение функции потерь на обучении 1.1080689309688097\n",
            "Среднее значение функции потерь на валидации 2.4549765950542386\n",
            "\n",
            "Эпоха 30\n",
            "Эпоха: 89 итераций, 29.26 сек\n",
            "Среднее значение функции потерь на обучении 0.925345821327038\n",
            "Среднее значение функции потерь на валидации 2.0796511738987293\n",
            "\n",
            "Эпоха 31\n",
            "Эпоха: 89 итераций, 29.05 сек\n",
            "Среднее значение функции потерь на обучении 0.6881370045495837\n",
            "Среднее значение функции потерь на валидации 1.9863872406846386\n",
            "Новая лучшая модель!\n",
            "\n",
            "Эпоха 32\n",
            "Эпоха: 89 итераций, 29.53 сек\n",
            "Среднее значение функции потерь на обучении 0.5994640421331598\n",
            "Среднее значение функции потерь на валидации 1.98894531241918\n",
            "\n",
            "Эпоха 33\n",
            "Эпоха: 89 итераций, 29.67 сек\n",
            "Среднее значение функции потерь на обучении 0.6721867158841551\n",
            "Среднее значение функции потерь на валидации 2.1470646716780584\n",
            "\n",
            "Эпоха 34\n",
            "Эпоха: 89 итераций, 30.47 сек\n",
            "Среднее значение функции потерь на обучении 0.6647492044427422\n",
            "Среднее значение функции потерь на валидации 2.487092416165239\n",
            "\n",
            "Эпоха 35\n",
            "Эпоха: 89 итераций, 29.54 сек\n",
            "Среднее значение функции потерь на обучении 0.8177910942709847\n",
            "Среднее значение функции потерь на валидации 2.2321010262279186\n",
            "\n",
            "Эпоха 36\n",
            "Эпоха: 89 итераций, 29.40 сек\n",
            "Среднее значение функции потерь на обучении 0.541242002603713\n",
            "Среднее значение функции потерь на валидации 2.049735091500363\n",
            "\n",
            "Эпоха 37\n",
            "Эпоха: 89 итераций, 29.49 сек\n",
            "Среднее значение функции потерь на обучении 0.43230072182885715\n",
            "Среднее значение функции потерь на валидации 1.968142442784067\n",
            "Новая лучшая модель!\n",
            "\n",
            "Эпоха 38\n",
            "Эпоха: 89 итераций, 29.02 сек\n",
            "Среднее значение функции потерь на обучении 0.6626970664169012\n",
            "Среднее значение функции потерь на валидации 2.093739661119752\n",
            "\n",
            "Эпоха 39\n",
            "Эпоха: 89 итераций, 29.83 сек\n",
            "Среднее значение функции потерь на обучении 0.735395574167873\n",
            "Среднее значение функции потерь на валидации 3.0525059821241993\n",
            "\n",
            "Эпоха 40\n",
            "Эпоха: 89 итераций, 29.40 сек\n",
            "Среднее значение функции потерь на обучении 0.9740561179900438\n",
            "Среднее значение функции потерь на валидации 2.5694320080643993\n",
            "\n",
            "Эпоха 41\n",
            "Эпоха: 89 итераций, 29.06 сек\n",
            "Среднее значение функции потерь на обучении 1.0171125792385487\n",
            "Среднее значение функции потерь на валидации 2.8788375834287225\n",
            "\n",
            "Эпоха 42\n",
            "Эпоха: 89 итераций, 29.28 сек\n",
            "Среднее значение функции потерь на обучении 0.6635552820529831\n",
            "Среднее значение функции потерь на валидации 2.343988826719381\n",
            "\n",
            "Эпоха 43\n",
            "Эпоха: 89 итераций, 29.90 сек\n",
            "Среднее значение функции потерь на обучении 0.78350157098154\n",
            "Среднее значение функции потерь на валидации 3.0310782860901395\n",
            "\n",
            "Эпоха 44\n",
            "Эпоха: 89 итераций, 29.24 сек\n",
            "Среднее значение функции потерь на обучении 0.416198615905609\n",
            "Среднее значение функции потерь на валидации 2.542709637496431\n",
            "\n",
            "Эпоха 45\n",
            "Эпоха: 89 итераций, 30.87 сек\n",
            "Среднее значение функции потерь на обучении 0.18755816626414823\n",
            "Среднее значение функции потерь на валидации 2.3434442988896773\n",
            "\n",
            "Эпоха 46\n",
            "Эпоха: 89 итераций, 30.60 сек\n",
            "Среднее значение функции потерь на обучении 0.13937942325817734\n",
            "Среднее значение функции потерь на валидации 2.3481309292680126\n",
            "\n",
            "Эпоха 47\n",
            "Эпоха: 89 итераций, 29.58 сек\n",
            "Среднее значение функции потерь на обучении 0.11809320513452037\n",
            "Среднее значение функции потерь на валидации 2.3092286687786294\n",
            "\n",
            "Эпоха 48\n",
            "Эпоха: 89 итераций, 30.86 сек\n",
            "Среднее значение функции потерь на обучении 0.11963774125730053\n",
            "Среднее значение функции потерь на валидации 2.252594917507495\n",
            "Модель не улучшилась за последние 10 эпох, прекращаем обучение\n"
          ]
        },
        {
          "name": "stderr",
          "output_type": "stream",
          "text": [
            "100%|██████████| 354/353.5625 [00:09<00:00, 37.75it/s]\n"
          ]
        },
        {
          "name": "stdout",
          "output_type": "stream",
          "text": [
            "Среднее значение функции потерь на обучении: 0.42573580145835876\n",
            "Доля верных ответов: 0.9231041187908785\n"
          ]
        },
        {
          "name": "stderr",
          "output_type": "stream",
          "text": [
            "236it [00:06, 33.89it/s]                             "
          ]
        },
        {
          "name": "stdout",
          "output_type": "stream",
          "text": [
            "Среднее значение функции потерь на тестировании: 1.9682482481002808\n",
            "Доля верных ответов: 0.6398035050451407\n"
          ]
        },
        {
          "name": "stderr",
          "output_type": "stream",
          "text": [
            "\n"
          ]
        }
      ],
      "source": [
        "# Определение стратегии изменения скорости обучения (Scheduler)\n",
        "scheduler = lambda optim: torch.optim.lr_scheduler.ReduceLROnPlateau(optim, patience=5, factor=0.5, verbose=True)\n",
        "# Уменьшает скорость обучения в 2 раза, если в течение 5 эпох не улучшается значение функции потерь\n",
        "\n",
        "# Запуск цикла обучения и валидации модели\n",
        "best_val_loss, best_model = train_eval_loop(\n",
        "    model=model_two_layer,  # Двухслойная нейросеть\n",
        "    train_dataset=SparseFeaturesDataset(train_vectors_filtered, train_source['target']),  # Обучающая выборка\n",
        "    val_dataset=SparseFeaturesDataset(test_vectors_filtered, test_source['target']),  # Валидационная выборка\n",
        "    criterion=F.cross_entropy,  # Функция потерь (кросс-энтропия)\n",
        "    lr=1e-1,  # Начальная скорость обучения\n",
        "    epoch_n=200,  # Максимальное количество эпох\n",
        "    batch_size=128,  # Размер батча\n",
        "    l2_reg_alpha=l2_reg_alpha,  # Коэффициент L2-регуляризации\n",
        "    lr_scheduler_ctor=scheduler  # Стратегия изменения скорости обучения\n",
        ")\n",
        "\n",
        "# Оценка модели на обучающей выборке\n",
        "train_pred = predict_with_model(best_model, SparseFeaturesDataset(train_vectors_filtered, train_source['target']))\n",
        "# Предсказания на обучающей выборке\n",
        "train_loss = F.cross_entropy(torch.from_numpy(train_pred), torch.from_numpy(train_source['target']).long())\n",
        "# Вычисление функции потерь на обучающей выборке\n",
        "print('Среднее значение функции потерь на обучении:', float(train_loss))  # Вывод значения функции потерь\n",
        "print('Доля верных ответов:', accuracy_score(train_source['target'], train_pred.argmax(-1)))  # Точность на обучении\n",
        "\n",
        "# Оценка модели на тестовой выборке\n",
        "test_pred = predict_with_model(best_model, SparseFeaturesDataset(test_vectors_filtered, test_source['target']))\n",
        "# Предсказания на тестовой выборке\n",
        "test_loss = F.cross_entropy(torch.from_numpy(test_pred), torch.from_numpy(test_source['target']).long())\n",
        "# Вычисление функции потерь на тестовой выборке\n",
        "print('Среднее значение функции потерь на тестировании:', float(test_loss))  # Вывод значения функции потерь\n",
        "print('Доля верных ответов:', accuracy_score(test_source['target'], test_pred.argmax(-1)))  # Точность на тестировании\n"
      ]
    },
    {
      "cell_type": "markdown",
      "metadata": {
        "id": "eNJXS7wyNZUC"
      },
      "source": [
        "## Выводы\n",
        "\n",
        "1. Исходная модель\n",
        "\n",
        "![image.png](attachment:image.png)\n",
        "\n",
        "\n",
        "2. Первая модификация модели\n",
        "\n",
        "![image-3.png](attachment:image-3.png)\n",
        "\n",
        "\n",
        "3. Вторая модификация модели\n",
        "\n",
        "![image-4.png](attachment:image-4.png)\n",
        "\n",
        "\n",
        "4. Финальная модификая модели\n",
        "\n",
        "![image-5.png](attachment:image-5.png)\n",
        "\n",
        "\n",
        "\n",
        "**До модификаций:**\n",
        "\n",
        "Функция потерь на обучении: Очень низкое значение (0.0022), что говорит о почти идеальном обучении модели на тренировочных данных.\n",
        "\n",
        "Доля верных ответов на обучении: Очень высокая (99.95%), указывающая на переобучение.\n",
        "\n",
        "Функция потерь на валидации: Значительно выше (0.9289), что подтверждает переобучение.\n",
        "\n",
        "Точность на валидации: 76.8% — модель показывает ограниченные обобщающие способности.\n",
        "\n",
        "\n",
        "**После модификаций:**\n",
        "\n",
        "Функция потерь на обучении: Увеличилась (0.4257), что говорит о снижении уровня переобучения.\n",
        "\n",
        "Доля верных ответов на обучении: Уменьшилась до 92.31%, что ожидаемо из-за регуляризации и усложнения архитектуры.\n",
        "\n",
        "Функция потерь на тестировании: Существенно возросла (1.9682), что указывает на ухудшение способности модели обобщать.\n",
        "\n",
        "Точность на тестировании: Снизилась до 63.98%, что также подтверждает ухудшение качества предсказаний на новых данных."
      ]
    }
  ],
  "metadata": {
    "colab": {
      "provenance": [],
      "include_colab_link": true
    },
    "kernelspec": {
      "display_name": "Python 3",
      "name": "python3"
    },
    "language_info": {
      "name": "python"
    }
  },
  "nbformat": 4,
  "nbformat_minor": 0
}